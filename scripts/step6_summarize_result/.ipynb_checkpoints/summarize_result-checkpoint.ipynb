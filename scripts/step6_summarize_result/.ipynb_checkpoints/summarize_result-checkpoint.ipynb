{
 "cells": [
  {
   "cell_type": "code",
   "execution_count": 1,
   "metadata": {},
   "outputs": [],
   "source": [
    "import pandas as pd\n",
    "import numpy as np"
   ]
  },
  {
   "cell_type": "code",
   "execution_count": 15,
   "metadata": {},
   "outputs": [],
   "source": [
    "def format_label(labelfile, mapfile):\n",
    "    map_df =  pd.read_csv(mapfile, header='infer', sep=\"\\t\")\n",
    "    sample_to_mask = dict(zip(map_df[\"sample_id\"], map_df[\"mask_id\"]))\n",
    "    master_df = pd.read_csv(labelfile, header='infer', sep=\"\\t\")\n",
    "    train_df = master_df[master_df['group'] == 'train'].copy()\n",
    "    train_df['mask_id'] = train_df[\"sample_id\"].map(sample_to_mask)\n",
    "    train_df['sample_id'] = train_df['mask_id']\n",
    "    train_df['fsample_id'] = train_df['mask_id']\n",
    "    train_df = train_df.drop('mask_id', axis=1)\n",
    "    return train_df"
   ]
  },
  {
   "cell_type": "code",
   "execution_count": 16,
   "metadata": {},
   "outputs": [],
   "source": [
    "# ST Input Files\n",
    "st_mapfile = '/home/dputnam/chenlab_home/CanID_classification_v1/public_application/private/mask_trainset/CanID_ST_maskID.txt'\n",
    "st_masterfile = '/home/dputnam/chenlab_home/CanID_classification_v1/solid_classifier/meta_data/MASTER_Solid_labels_m1408.txt'\n",
    "\n",
    "# HM Input Files\n",
    "hm_mapfile = '/home/dputnam/chenlab_home/CanID_classification_v1/public_application/private/mask_trainset/CanID_HM_maskID.txt'\n",
    "hm_masterfile = '/home/dputnam/chenlab_home/CanID_classification_v1/blood_classifier/meta_data/MASTER_Blood_labels_m3359.txt'"
   ]
  },
  {
   "cell_type": "code",
   "execution_count": 19,
   "metadata": {},
   "outputs": [],
   "source": [
    "st_df = format_label(st_masterfile, st_mapfile)\n",
    "st_df.to_csv('CanID_ST_TrainLabels.txt', header=True, index=False, sep=\"\\t\")"
   ]
  },
  {
   "cell_type": "code",
   "execution_count": 20,
   "metadata": {},
   "outputs": [],
   "source": [
    "hm_df = format_label(hm_masterfile, hm_mapfile)\n",
    "hm_df.to_csv('CanID_HM_TrainLabels.txt', header=True, index=False, sep=\"\\t\")"
   ]
  }
 ],
 "metadata": {
  "kernelspec": {
   "display_name": "ml-demo",
   "language": "python",
   "name": "ml-demo"
  },
  "language_info": {
   "codemirror_mode": {
    "name": "ipython",
    "version": 3
   },
   "file_extension": ".py",
   "mimetype": "text/x-python",
   "name": "python",
   "nbconvert_exporter": "python",
   "pygments_lexer": "ipython3",
   "version": "3.10.4"
  }
 },
 "nbformat": 4,
 "nbformat_minor": 2
}
